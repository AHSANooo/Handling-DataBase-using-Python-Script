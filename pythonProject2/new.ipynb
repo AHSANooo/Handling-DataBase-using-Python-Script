{
 "cells": [
  {
   "cell_type": "code",
   "id": "initial_id",
   "metadata": {
    "collapsed": true,
    "ExecuteTime": {
     "end_time": "2024-08-07T07:29:18.252642Z",
     "start_time": "2024-08-07T07:29:13.630126Z"
    }
   },
   "source": "!pip install mysql-connector-python",
   "outputs": [
    {
     "name": "stdout",
     "output_type": "stream",
     "text": [
      "Requirement already satisfied: mysql-connector-python in c:\\users\\hp\\anaconda3\\lib\\site-packages (9.0.0)\n"
     ]
    }
   ],
   "execution_count": 8
  },
  {
   "metadata": {
    "ExecuteTime": {
     "end_time": "2024-08-07T07:29:34.133317Z",
     "start_time": "2024-08-07T07:29:34.015134Z"
    }
   },
   "cell_type": "code",
   "source": [
    "import mysql.connector\n",
    "\n",
    "# Establishing the connection to the MySQL database\n",
    "conn = mysql.connector.connect(\n",
    "    host='localhost',      # e.g., 'localhost'\n",
    "    user='root',  # e.g., 'root'\n",
    "    password='687354@@',\n",
    "    database='kfc_management'  # e.g., 'kfc_management_system'\n",
    ")\n",
    "\n",
    "# Creating a cursor object using the connection\n",
    "cursor = conn.cursor()\n",
    "\n",
    "# Defining the SQL query to calculate the total profit\n",
    "query = \"\"\"\n",
    "SELECT SUM((od.price - p.cost) * od.quantity) AS profit\n",
    "FROM order_details od\n",
    "JOIN products p ON od.product_id = p.product_id;\n",
    "\"\"\"\n",
    "\n",
    "# Executing the SQL query\n",
    "cursor.execute(query)\n",
    "\n",
    "# Fetching the result\n",
    "result = cursor.fetchone()\n",
    "\n",
    "# Closing the cursor and connection\n",
    "cursor.close()\n",
    "conn.close()\n",
    "\n",
    "# Printing the result\n",
    "if result:\n",
    "    print(f'Total Profit: {result[0]}')\n",
    "else:\n",
    "    print('No data found.')\n",
    "\n"
   ],
   "id": "6dbc776d720f8646",
   "outputs": [
    {
     "name": "stdout",
     "output_type": "stream",
     "text": [
      "Total Profit: 87.25\n"
     ]
    }
   ],
   "execution_count": 9
  },
  {
   "metadata": {
    "ExecuteTime": {
     "end_time": "2024-08-07T07:09:22.871063Z",
     "start_time": "2024-08-07T07:09:22.836681Z"
    }
   },
   "cell_type": "code",
   "source": "",
   "id": "61eed25ff2fe092d",
   "outputs": [
    {
     "ename": "ModuleNotFoundError",
     "evalue": "No module named 'sqlite3.connect'",
     "output_type": "error",
     "traceback": [
      "\u001B[1;31m---------------------------------------------------------------------------\u001B[0m",
      "\u001B[1;31mModuleNotFoundError\u001B[0m                       Traceback (most recent call last)",
      "Cell \u001B[1;32mIn[7], line 1\u001B[0m\n\u001B[1;32m----> 1\u001B[0m \u001B[38;5;28;01mimport\u001B[39;00m \u001B[38;5;21;01msqlite3\u001B[39;00m\u001B[38;5;21;01m.\u001B[39;00m\u001B[38;5;21;01mconnect\u001B[39;00m\n",
      "\u001B[1;31mModuleNotFoundError\u001B[0m: No module named 'sqlite3.connect'"
     ]
    }
   ],
   "execution_count": 7
  }
 ],
 "metadata": {
  "kernelspec": {
   "display_name": "Python 3",
   "language": "python",
   "name": "python3"
  },
  "language_info": {
   "codemirror_mode": {
    "name": "ipython",
    "version": 2
   },
   "file_extension": ".py",
   "mimetype": "text/x-python",
   "name": "python",
   "nbconvert_exporter": "python",
   "pygments_lexer": "ipython2",
   "version": "2.7.6"
  }
 },
 "nbformat": 4,
 "nbformat_minor": 5
}
